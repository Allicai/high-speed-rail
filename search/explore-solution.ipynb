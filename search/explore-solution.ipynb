{
 "cells": [
  {
   "cell_type": "code",
   "execution_count": null,
   "metadata": {},
   "outputs": [],
   "source": [
    "import pandas as pd\n",
    "import geopandas as gpd\n",
    "import shapely\n",
    "import matplotlib.pyplot as plt"
   ]
  },
  {
   "cell_type": "code",
   "execution_count": null,
   "metadata": {},
   "outputs": [],
   "source": [
    "sol = pd.read_csv('../out/solution-test2.csv')\n",
    "sol"
   ]
  },
  {
   "cell_type": "code",
   "execution_count": null,
   "metadata": {},
   "outputs": [],
   "source": [
    "cities_geom = gpd.read_file('../data/us-major-cities/USA_Major_Cities.shp')\n",
    "cols = ['NAME', 'ST', 'geometry']\n",
    "cities_geom[cols]\n"
   ]
  },
  {
   "cell_type": "code",
   "execution_count": null,
   "metadata": {},
   "outputs": [],
   "source": [
    "sol_cols = sol.columns\n",
    "sol_origin = sol.merge(cities_geom[cols], how='inner', left_on=['city_origin', 'state_origin'], right_on=['NAME', 'ST']).rename(columns={'geometry': 'pt_origin'})\n",
    "\n",
    "sol_od = sol_origin.merge(cities_geom[cols], how='inner', left_on=['city_dest', 'state_dest'], right_on=['NAME', 'ST']).rename(columns={'geometry': 'pt_dest'})\n",
    "sol_geom = sol_od[['pt_origin', 'pt_dest']]\n",
    "sol_geom['geometry'] = sol_geom.apply(lambda row: shapely.LineString((row['pt_origin'], row['pt_dest'])), axis='columns')\n",
    "sol_geom"
   ]
  },
  {
   "cell_type": "code",
   "execution_count": null,
   "metadata": {},
   "outputs": [],
   "source": [
    "og_crs = cities_geom.crs\n",
    "final = gpd.GeoDataFrame(sol, geometry=sol_geom['geometry'], crs=og_crs) # type: ignore\n",
    "states = gpd.read_file('../data/us-states/States_shapefile.shp').to_crs(epsg=3395)\n",
    "# remove AK and HI\n",
    "states: gpd.GeoDataFrame = states[(states['State_Code'] != 'AK') & (states['State_Code'] != 'HI')] # type: ignore\n",
    "citiesPlotMask = (cities_geom['POPULATION'] > 200e3) & (cities_geom['ST'] != 'HI') & (cities_geom['ST'] != 'AK')\n",
    "cities_for_plot = cities_geom[citiesPlotMask].to_crs(epsg=3395)\n",
    "\n",
    "fig, ax1 = plt.subplots(nrows=1, ncols=1, sharex=True, sharey=True, figsize=(20, 20))\n",
    "ax1 = states.plot(ax=ax1, cmap='Pastel2')\n",
    "ax1 = cities_for_plot.plot(ax=ax1, marker='o', color='black')\n",
    "final.to_crs(epsg=3395).plot(ax=ax1, cmap='rainbow')"
   ]
  },
  {
   "cell_type": "code",
   "execution_count": null,
   "metadata": {},
   "outputs": [],
   "source": [
    "final['construction_cost_usd'].sum() / 1e9"
   ]
  }
 ],
 "metadata": {
  "kernelspec": {
   "display_name": "hsr-project",
   "language": "python",
   "name": "python3"
  },
  "language_info": {
   "codemirror_mode": {
    "name": "ipython",
    "version": 3
   },
   "file_extension": ".py",
   "mimetype": "text/x-python",
   "name": "python",
   "nbconvert_exporter": "python",
   "pygments_lexer": "ipython3",
   "version": "3.12.0"
  }
 },
 "nbformat": 4,
 "nbformat_minor": 2
}
