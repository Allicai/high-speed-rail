{
 "cells": [
  {
   "cell_type": "code",
   "execution_count": null,
   "metadata": {},
   "outputs": [],
   "source": [
    "import pandas as pd\n",
    "import geopandas as gpd"
   ]
  },
  {
   "cell_type": "code",
   "execution_count": null,
   "metadata": {},
   "outputs": [],
   "source": [
    "cities_geom = gpd.read_file('../data/us-major-cities/USA_Major_Cities.shp')\n",
    "og_crs = cities_geom.crs\n",
    "cols_of_interest = [\n",
    "    'NAME', # name of city\n",
    "    'CLASS', # city, town, etc\n",
    "    'ST', # state code\n",
    "    'POPULATION',\n",
    "    'geometry' # Point\n",
    "]\n",
    "cities_geom = cities_geom[cols_of_interest]\n",
    "# drop AK and HI\n",
    "cities_geom = cities_geom[(cities_geom['ST'] != 'AK') & (cities_geom['ST'] != 'HI')]\n",
    "cities_geom"
   ]
  },
  {
   "cell_type": "code",
   "execution_count": null,
   "metadata": {},
   "outputs": [],
   "source": [
    "iata = pd.read_csv('../data/airport-codes/mborsetti/airports.csv').dropna()\n",
    "iata = iata.loc[iata['country'] == 'US']\n",
    "iata.sort_values('iata')"
   ]
  },
  {
   "cell_type": "code",
   "execution_count": null,
   "metadata": {},
   "outputs": [],
   "source": [
    "state_lookup = pd.read_csv('../data/db1b-survey/lookups/L_STATE_ABR_AVIATION.csv')\n",
    "iata_cols = [\n",
    "    'iata',\n",
    "    'city',\n",
    "    'subd',\n",
    "]\n",
    "iata_state_codes = iata[iata_cols].merge(state_lookup, how='inner', left_on='subd', right_on='Description').drop(columns=['Description'])\n",
    "iata_state_codes = iata_state_codes.rename(columns={'subd': 'state', 'Code': 'ST'})\n",
    "iata_state_codes.to_csv('../out/iatastates.csv')\n",
    "iata_state_codes"
   ]
  },
  {
   "cell_type": "code",
   "execution_count": null,
   "metadata": {},
   "outputs": [],
   "source": [
    "cities_cols = [\n",
    "    'NAME',\n",
    "    'POPULATION',\n",
    "    'geometry',\n",
    "    'ST'\n",
    "]\n",
    "iata_cols = [\n",
    "    'iata',\n",
    "    'city',\n",
    "    'ST',\n",
    "]\n",
    "cities_geom = pd.DataFrame(cities_geom)\n",
    "city_to_iata = cities_geom[cities_cols].merge(\n",
    "    iata_state_codes[iata_cols], how='inner',\n",
    "    left_on=['NAME', 'ST'], right_on=['city', 'ST']\n",
    ").drop(columns='NAME').rename(columns={'POPULATION': 'population', 'ST': 'state_id', 'geometry': 'city_pt'})\n",
    "city_to_iata"
   ]
  },
  {
   "cell_type": "code",
   "execution_count": null,
   "metadata": {},
   "outputs": [],
   "source": [
    "vols = pd.read_csv('../data/db1b-survey/market/processed/db1b-passenger-vol-2022-full.csv')\n",
    "vols"
   ]
  },
  {
   "cell_type": "code",
   "execution_count": null,
   "metadata": {},
   "outputs": [],
   "source": [
    "vols_cols = [\n",
    "    'Year',\n",
    "    'Origin',\n",
    "    'Dest',\n",
    "    'NonStopMiles',\n",
    "    'Passengers'\n",
    "]\n",
    "city_iata_cols = [\n",
    "    'iata',\n",
    "    'city',\n",
    "    'state_id',\n",
    "    'population',\n",
    "]\n",
    "\n",
    "origin_iata = vols[vols_cols].merge(city_to_iata[city_iata_cols], how='inner', left_on='Origin', right_on='iata')\\\n",
    "    .rename(columns={'city': 'city_origin', 'state_id': 'state_origin', 'population': 'pop_origin'})\\\n",
    "        .drop(columns=['iata'])\n",
    "\n",
    "od_iata = origin_iata.merge(city_to_iata[city_iata_cols], how='inner', left_on='Dest', right_on='iata')\\\n",
    "    .rename(columns={'city': 'city_dest', 'state_id': 'state_dest', 'population': 'pop_dest'})\\\n",
    "        .drop(columns=['iata'])\n",
    "        \n",
    "od_iata"
   ]
  },
  {
   "cell_type": "code",
   "execution_count": null,
   "metadata": {},
   "outputs": [],
   "source": [
    "# convert miles to km\n",
    "mi_to_km_factor = 1.60934\n",
    "od_iata['NonStopMiles'] *= mi_to_km_factor\n",
    "od_iata = od_iata.rename(columns={'NonStopMiles': 'NonStopKm'})\n",
    "\n",
    "# idea see:\n",
    "# https://www.statista.com/statistics/1185559/carbon-footprint-of-travel-per-kilometer-by-mode-of-transport\n",
    "# assume 255 g/km of co2 per passenger for flights <1000km, or 156 g/km for flights >=1000km\n",
    "# units: g/km flown\n",
    "\n",
    "# todo this should all be replaced with google travel API once we have actual flight data\n",
    "co2_per_person_short = 255\n",
    "co2_per_person_long = 156\n",
    "\n",
    "short_flights_idx = od_iata.loc[lambda row: row['NonStopKm'] < 1000].index\n",
    "long_flights_idx = od_iata.loc[lambda row: row['NonStopKm'] >= 1000].index\n",
    "\n",
    "annual_g_co2 = od_iata['NonStopKm'] * od_iata['Passengers']\n",
    "annual_g_co2[short_flights_idx] *= co2_per_person_short\n",
    "annual_g_co2[long_flights_idx] *= co2_per_person_long\n",
    "\n",
    "od_iata['co2_g'] = annual_g_co2\n",
    "od_iata"
   ]
  },
  {
   "cell_type": "code",
   "execution_count": null,
   "metadata": {},
   "outputs": [],
   "source": [
    "# High speed double track on new stone rail road stone bed -- high cost/km = 1650000\n",
    "# Install a Centralized traffic control system double track -- high cost/km = 257825\n",
    "# source: https://compassinternational.net/railroad-engineering-construction-cost-benchmarks/\n",
    "cost_per_km = 1650000 + 257825\n",
    "od_iata['construction_cost_usd'] = od_iata['NonStopKm'] * cost_per_km\n",
    "\n",
    "# assume average HSR travel speed of 200 km/h\n",
    "hsr_avg_speed = 200\n",
    "od_iata['hsr_travel_time_hr'] = od_iata['NonStopKm'] / hsr_avg_speed\n",
    "\n",
    "# assume average flight travel speed of 800 km/h\n",
    "plane_avg_speed = 800\n",
    "od_iata['plane_travel_time_hr'] = od_iata['NonStopKm'] / plane_avg_speed\n",
    "# todo add ~3 hours for travel to airport, security, gate waiting time\n",
    "\n",
    "od_iata"
   ]
  },
  {
   "cell_type": "code",
   "execution_count": null,
   "metadata": {},
   "outputs": [],
   "source": [
    "od_iata.to_csv('../data/algo_testing_data.csv')"
   ]
  }
 ],
 "metadata": {
  "kernelspec": {
   "display_name": "hsr-project",
   "language": "python",
   "name": "python3"
  },
  "language_info": {
   "codemirror_mode": {
    "name": "ipython",
    "version": 3
   },
   "file_extension": ".py",
   "mimetype": "text/x-python",
   "name": "python",
   "nbconvert_exporter": "python",
   "pygments_lexer": "ipython3",
   "version": "3.12.0"
  }
 },
 "nbformat": 4,
 "nbformat_minor": 2
}
