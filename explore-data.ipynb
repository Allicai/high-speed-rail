{
 "cells": [
  {
   "cell_type": "code",
   "execution_count": null,
   "metadata": {},
   "outputs": [],
   "source": [
    "import numpy as np\n",
    "import matplotlib.pyplot as plt\n",
    "import pandas as pd\n",
    "import geopandas as gpd\n",
    "import itertools\n",
    "from shapely.geometry import Point\n",
    "from geopy.distance import great_circle, geodesic"
   ]
  },
  {
   "cell_type": "code",
   "execution_count": null,
   "metadata": {},
   "outputs": [],
   "source": [
    "cities = gpd.read_file('./data/us-major-cities/USA_Major_Cities.shp')\n",
    "og_crs = cities.crs\n",
    "cities"
   ]
  },
  {
   "cell_type": "code",
   "execution_count": null,
   "metadata": {},
   "outputs": [],
   "source": [
    "cols_of_interest = [\n",
    "    'NAME', # name of city\n",
    "    'CLASS', # city, town, etc\n",
    "    'ST', # state code\n",
    "    # 'PLACEFIPS',\n",
    "    # 'CAPITAL',\n",
    "    # 'POP_CLASS',\n",
    "    'POPULATION',\n",
    "    'geometry' # Point\n",
    "]\n",
    "cities = cities[cols_of_interest]\n",
    "# drop AK and HI\n",
    "cities = cities[(cities['ST'] != 'AK') & (cities['ST'] != 'HI')]\n",
    "cities"
   ]
  },
  {
   "cell_type": "code",
   "execution_count": null,
   "metadata": {},
   "outputs": [],
   "source": [
    "big_cities: gpd.GeoDataFrame = cities[cities['POPULATION'] > 500e3]\n",
    "\n",
    "states = gpd.read_file('data/us-states/States_shapefile.shp').to_crs(epsg=3395)\n",
    "# remove AK and HI\n",
    "states: gpd.GeoDataFrame = states[(states['State_Code'] != 'AK') & (states['State_Code'] != 'HI')] # type: ignore\n",
    "\n",
    "cities_for_plot: gpd.GeoDataFrame = gpd.GeoDataFrame(big_cities).to_crs(epsg=3395) # type: ignore\n",
    "cities_for_plot.plot(ax=states.plot(cmap='Pastel2', figsize=(50,50)), marker='o', color='black', markersize=15)\n"
   ]
  },
  {
   "cell_type": "code",
   "execution_count": null,
   "metadata": {},
   "outputs": [],
   "source": [
    "# returns the geopy great_circle between two shapely Points (note reversal of x<->y)\n",
    "def great_circle_two_points(pt1: Point, pt2: Point):\n",
    "    return great_circle((pt1.y, pt1.x), (pt2.y, pt2.x))\n",
    "\n",
    "big_cities_cross = big_cities.merge(big_cities, how='cross', suffixes=('_dep', '_arr'))\n",
    "idx = big_cities_cross['NAME_dep'] != big_cities_cross['NAME_arr']\n",
    "big_cities_cross = big_cities_cross[idx]\n",
    "big_cities_cross = big_cities_cross.reset_index().drop(columns='index')\n",
    "\n",
    "# assume annual passenger volume (in each direction) is 5% of the combined population of the two cities\n",
    "passenger_vol = 0.05 * (big_cities_cross['POPULATION_dep'] + big_cities_cross['POPULATION_arr'])\n",
    "big_cities_cross['annual_passengers'] = passenger_vol\n",
    "# todo: this is a rudimentary way of removing duped pairs: (drop rows that have exact same passenger vol)\n",
    "big_cities_cross = big_cities_cross[~passenger_vol.duplicated()]\n",
    "# intercity distances\n",
    "big_cities_cross['distance_km'] = big_cities_cross.apply(\n",
    "    lambda row: great_circle_two_points(row['geometry_dep'], row['geometry_arr']).km,\n",
    "    axis='columns'\n",
    ")\n",
    "\n",
    "big_cities_cross"
   ]
  },
  {
   "cell_type": "code",
   "execution_count": null,
   "metadata": {},
   "outputs": [],
   "source": [
    "# High speed double track on new stone rail road stone bed -- high cost/km = 1650000\n",
    "# Install a Centralized traffic control system double track -- high cost/km = 257825\n",
    "# source: https://compassinternational.net/railroad-engineering-construction-cost-benchmarks/\n",
    "cost_per_km = 1650000 + 257825\n",
    "big_cities_cross['construction_cost_usd'] = big_cities_cross['distance_km'] * cost_per_km\n",
    "\n",
    "# assume average HSR travel speed of 200 km/h\n",
    "hsr_avg_speed = 200\n",
    "big_cities_cross['hsr_travel_time_hr'] = big_cities_cross['distance_km'] / hsr_avg_speed\n",
    "\n",
    "big_cities_cross"
   ]
  }
 ],
 "metadata": {
  "kernelspec": {
   "display_name": "hsr-project",
   "language": "python",
   "name": "python3"
  },
  "language_info": {
   "codemirror_mode": {
    "name": "ipython",
    "version": 3
   },
   "file_extension": ".py",
   "mimetype": "text/x-python",
   "name": "python",
   "nbconvert_exporter": "python",
   "pygments_lexer": "ipython3",
   "version": "3.12.0"
  }
 },
 "nbformat": 4,
 "nbformat_minor": 2
}
