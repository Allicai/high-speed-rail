{
 "cells": [
  {
   "cell_type": "code",
   "execution_count": null,
   "metadata": {},
   "outputs": [],
   "source": [
    "import numpy as np\n",
    "import pandas as pd\n",
    "import itertools\n",
    "from geopy import Point\n",
    "from geopy.distance import distance\n"
   ]
  },
  {
   "cell_type": "code",
   "execution_count": null,
   "metadata": {},
   "outputs": [],
   "source": [
    "cities = pd.read_csv('./data/esri-usa-major-cities.csv')\n",
    "cols_of_interest = [\n",
    "    'X',\n",
    "    'Y',\n",
    "    'NAME',\n",
    "    'CLASS',\n",
    "    'PLACEFIPS',\n",
    "    'CAPITAL',\n",
    "    'POP_CLASS',\n",
    "    'POPULATION',\n",
    "]\n",
    "cities = cities[cols_of_interest]\n",
    "cities = cities[cities['CLASS'] == 'city']\n",
    "big_cities = cities[cities.POPULATION > 500000]\n",
    "big_cities = big_cities.reset_index().drop(columns='index')\n",
    "\n",
    "big_cities['latlong'] = list(zip(big_cities['X'], big_cities['Y']))\n",
    "big_cities = big_cities.drop(columns=['X', 'Y'])\n",
    "big_cities"
   ]
  },
  {
   "cell_type": "code",
   "execution_count": null,
   "metadata": {},
   "outputs": [],
   "source": [
    "big_cities_cross = big_cities.merge(big_cities, how='cross', suffixes=('_dep', '_arr'))\n",
    "\n",
    "# idx = big_cities_cross['NAME_dep'] != big_cities_cross['NAME_arr']\n",
    "# big_cities_cross = big_cities_cross[idx]\n",
    "# todo remove (x,y) if (y,x) present in dataframe\n",
    "# comb = itertools.combinations(big_cities['NAME'], r=2)\n",
    "big_cities_cross = big_cities_cross.reset_index().drop(columns='index')\n",
    "\n",
    "# assume annual passenger volume (in each direction) is 5% of the combined population of the two cities\n",
    "passenger_vol = 0.05 * (big_cities_cross['POPULATION_dep'] + big_cities_cross['POPULATION_arr'])\n",
    "big_cities_cross['passenger_vol'] = passenger_vol\n",
    "\n",
    "big_cities_cross.apply(lambda row: distance(row['latlong_dep'], row['latlong_arr']), axis='columns')"
   ]
  }
 ],
 "metadata": {
  "kernelspec": {
   "display_name": "hsr-project",
   "language": "python",
   "name": "python3"
  },
  "language_info": {
   "codemirror_mode": {
    "name": "ipython",
    "version": 3
   },
   "file_extension": ".py",
   "mimetype": "text/x-python",
   "name": "python",
   "nbconvert_exporter": "python",
   "pygments_lexer": "ipython3",
   "version": "3.12.0"
  }
 },
 "nbformat": 4,
 "nbformat_minor": 2
}
